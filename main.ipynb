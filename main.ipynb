{
 "cells": [
  {
   "cell_type": "code",
   "execution_count": 4,
   "id": "f97e3966",
   "metadata": {
    "id": "f97e3966",
    "ExecuteTime": {
     "end_time": "2023-11-07T18:49:46.942512685Z",
     "start_time": "2023-11-07T18:49:46.919537582Z"
    }
   },
   "outputs": [],
   "source": [
    "import pandas as pd\n",
    "from torchtext.data.utils import get_tokenizer\n",
    "from torchtext.vocab import build_vocab_from_iterator\n",
    "from collections import Counter\n",
    "import re\n",
    "import string\n",
    "import io"
   ]
  },
  {
   "cell_type": "code",
   "execution_count": 5,
   "id": "1a99d3ca",
   "metadata": {
    "id": "1a99d3ca",
    "ExecuteTime": {
     "end_time": "2023-11-07T18:49:47.099567527Z",
     "start_time": "2023-11-07T18:49:47.093776726Z"
    }
   },
   "outputs": [],
   "source": [
    "def read_file(file):\n",
    "    with open(file) as f:\n",
    "        contents = f.read()\n",
    "            \n",
    "    #contents = contents.replace(\"\\\\u2019\", \"'\").replace(\"\\\\u002c\", \"\").replace(\":D\", \"\").replace(\"xD\", \"\").replace(\":)\", \"\")\n",
    "    #contents = contents.translate(str.maketrans('', '', string.punctuation))\n",
    "    table = [line.split(\"\\t\")[1:] for line in contents.lower().split(\"\\n\")[10:-1]]\n",
    "    print(table[0])\n",
    "    return pd.DataFrame(table, columns = ['texte','classe'])"
   ]
  },
  {
   "cell_type": "markdown",
   "id": "jvIbY6BEMOXG",
   "metadata": {
    "id": "jvIbY6BEMOXG"
   },
   "source": [
    "## Chargement des données\n",
    "Pour lancer le chargement de données veuillez mettre les données dans un dossier data : 'data/donnees_appr_dev/train.xml' \n"
   ]
  },
  {
   "cell_type": "code",
   "execution_count": 6,
   "id": "3300ab13",
   "metadata": {
    "ExecuteTime": {
     "end_time": "2023-11-07T18:49:48.210336379Z",
     "start_time": "2023-11-07T18:49:48.195847366Z"
    }
   },
   "outputs": [],
   "source": [
    "# loading one line of data only, file is too large :/\n",
    "def load_data():\n",
    "    train_xml, dev_xml = '', ''\n",
    "    f_train = open('data/donnees_appr_dev/train.xml', \"r\")\n",
    "    f_dev = open('data/donnees_appr_dev/dev.xml', \"r\")\n",
    "    train_xml = f_train.readlines()\n",
    "    dev_xml = f_dev.readlines()\n",
    "    train_xml = ''.join(train_xml)\n",
    "    dev_xml += ''.join(dev_xml)\n",
    "    train = pd.read_xml(io.StringIO(train_xml))\n",
    "    dev = pd.read_xml(io.StringIO(dev_xml))\n",
    "    return train, dev"
   ]
  },
  {
   "cell_type": "code",
   "execution_count": null,
   "id": "e8ba0c75",
   "metadata": {
    "is_executing": true,
    "ExecuteTime": {
     "start_time": "2023-11-07T18:49:49.591840337Z"
    }
   },
   "outputs": [],
   "source": [
    "train_df, dev_df = load_data()"
   ]
  },
  {
   "cell_type": "code",
   "execution_count": null,
   "id": "8b0efede",
   "metadata": {
    "scrolled": true
   },
   "outputs": [],
   "source": [
    "train_df"
   ]
  },
  {
   "cell_type": "markdown",
   "id": "sqlrqfCIMn8r",
   "metadata": {
    "id": "sqlrqfCIMn8r"
   },
   "source": [
    "## Tokenization"
   ]
  },
  {
   "cell_type": "code",
   "execution_count": null,
   "id": "9ae967b3",
   "metadata": {
    "id": "9ae967b3"
   },
   "outputs": [],
   "source": [
    "def yield_tokens(tokenizer, data_iter):\n",
    "    for text in data_iter:\n",
    "        yield tokenizer(str(text))\n",
    "\n",
    "def get_vocab(data):\n",
    "    data_iter = iter(data)\n",
    "    tokenizer = get_tokenizer('basic_english')\n",
    "    vocab = build_vocab_from_iterator(yield_tokens(tokenizer, data_iter), specials=[\"<unk>\", \"<link>\", \"<hashtag>\", \"<mention>\"])\n",
    "    vocab.set_default_index(vocab[\"<unk>\"])\n",
    "    return vocab"
   ]
  },
  {
   "cell_type": "markdown",
   "id": "YLKw0hytMkgB",
   "metadata": {
    "id": "YLKw0hytMkgB"
   },
   "source": [
    "## Nettoyage des données"
   ]
  },
  {
   "cell_type": "code",
   "execution_count": null,
   "id": "159nEx5Zm9rP",
   "metadata": {
    "id": "159nEx5Zm9rP"
   },
   "outputs": [],
   "source": [
    "def clean_table(table):\n",
    "  #table = table.drop(columns=['id'])\n",
    "  table = table.dropna()\n",
    "  table[\"texte\"] = table[\"texte\"].apply(lambda x: re.sub(r'https?:\\/\\/\\S+', '<link>', x))\n",
    "  table[\"texte\"] = table[\"texte\"].apply(lambda x: re.sub(r\"www\\.[a-z]?\\.?(com)+|[a-z]+\\.(com)\", '<link>', x))\n",
    "  table[\"texte\"] = table[\"texte\"].apply(lambda x: re.sub(r\"#(\\w+)\", '<hashtag>', x))\n",
    "  table[\"texte\"] = table[\"texte\"].apply(lambda x: re.sub(r'/@([a-z\\d_]+)/ig', '<mention>', x))\n",
    "  return table"
   ]
  },
  {
   "cell_type": "code",
   "execution_count": null,
   "id": "tiZ3KQvgnk-E",
   "metadata": {
    "id": "tiZ3KQvgnk-E"
   },
   "outputs": [],
   "source": [
    "train_df, test_df = clean_table(train_df), clean_table(test_df)"
   ]
  },
  {
   "cell_type": "markdown",
   "id": "JwuYo6SFMqx-",
   "metadata": {
    "id": "JwuYo6SFMqx-"
   },
   "source": [
    "## Récupération du vocabulaire"
   ]
  },
  {
   "cell_type": "code",
   "execution_count": null,
   "id": "678a47a4",
   "metadata": {
    "id": "678a47a4"
   },
   "outputs": [],
   "source": [
    "vocab = get_vocab(pd.concat([train_df,test_df])[\"texte\"])"
   ]
  },
  {
   "cell_type": "code",
   "execution_count": null,
   "id": "RFpQrPi8hewD",
   "metadata": {
    "colab": {
     "base_uri": "https://localhost:8080/"
    },
    "id": "RFpQrPi8hewD",
    "outputId": "80017f51-02e2-463a-c002-817fe5f9dbc4"
   },
   "outputs": [],
   "source": [
    "print(len(vocab.get_stoi().keys()))"
   ]
  },
  {
   "cell_type": "code",
   "execution_count": null,
   "id": "hzlbUrHMCcX7",
   "metadata": {
    "colab": {
     "base_uri": "https://localhost:8080/",
     "height": 206
    },
    "id": "hzlbUrHMCcX7",
    "outputId": "ba4809b1-dc9e-4fc5-a3d7-0a94deaff661"
   },
   "outputs": [],
   "source": [
    "train_df.head()"
   ]
  },
  {
   "cell_type": "code",
   "execution_count": null,
   "id": "9d1c29b4",
   "metadata": {},
   "outputs": [],
   "source": [
    "fr = spacy.load('fr')\n"
   ]
  },
  {
   "cell_type": "markdown",
   "id": "prhbEeDOMuoK",
   "metadata": {
    "id": "prhbEeDOMuoK"
   },
   "source": [
    "## Encodage du texte"
   ]
  },
  {
   "cell_type": "code",
   "execution_count": null,
   "id": "maJuYJpsX1Qt",
   "metadata": {
    "id": "maJuYJpsX1Qt"
   },
   "outputs": [],
   "source": [
    "def encode_corpus(data_iter, vocab):\n",
    "    encoded = []\n",
    "    tokenizer = get_tokenizer('spacy', 'fr')\n",
    "    \n",
    "    for text in data_iter:\n",
    "      tokenized_sentence = tokenizer(str(text))\n",
    "      tokenized_counter = Counter(tokenized_sentence)\n",
    "      encoded.append([tokenized_counter[word] for word in list(vocab.get_stoi().keys())])\n",
    "    return encoded"
   ]
  },
  {
   "cell_type": "code",
   "execution_count": null,
   "id": "c0j_0ZKMe4wD",
   "metadata": {
    "id": "c0j_0ZKMe4wD"
   },
   "outputs": [],
   "source": [
    "encoded_train = encode_corpus(iter(train_df['texte']), vocab)\n",
    "encoded_test = encode_corpus(iter(test_df['texte']), vocab)"
   ]
  },
  {
   "cell_type": "code",
   "execution_count": null,
   "id": "eoQAQHnyn8HO",
   "metadata": {
    "colab": {
     "base_uri": "https://localhost:8080/"
    },
    "id": "eoQAQHnyn8HO",
    "outputId": "9457f06c-adc6-4154-a1cd-771e173ccfb0"
   },
   "outputs": [],
   "source": [
    "encoded_train[0]"
   ]
  },
  {
   "cell_type": "code",
   "execution_count": null,
   "id": "SEGYVtuj1mIT",
   "metadata": {
    "colab": {
     "base_uri": "https://localhost:8080/",
     "height": 35
    },
    "id": "SEGYVtuj1mIT",
    "outputId": "dc7dc6e0-bae2-4ba3-d31e-2dc171285faf"
   },
   "outputs": [],
   "source": [
    "train_df['texte'][0]"
   ]
  },
  {
   "cell_type": "markdown",
   "id": "uuqjHdBNM2ef",
   "metadata": {
    "id": "uuqjHdBNM2ef"
   },
   "source": [
    "## Encodage des labels  "
   ]
  },
  {
   "cell_type": "code",
   "execution_count": null,
   "id": "OzrTAOqze_Y6",
   "metadata": {
    "id": "OzrTAOqze_Y6"
   },
   "outputs": [],
   "source": [
    "from sklearn import preprocessing\n",
    "le = preprocessing.LabelEncoder()\n",
    "le.fit([\"negative\", \"objective\", \"mixed\", \"positive\"])\n",
    "train_df[\"classe\"] = le.transform(train_df[\"classe\"]) - 1"
   ]
  },
  {
   "cell_type": "code",
   "execution_count": null,
   "id": "XN_ngeQL73-F",
   "metadata": {
    "id": "XN_ngeQL73-F"
   },
   "outputs": [],
   "source": [
    "test_df[\"classe\"] = le.transform(test_df[\"classe\"]) - 1"
   ]
  },
  {
   "cell_type": "markdown",
   "id": "r7d1eJnEM8lC",
   "metadata": {
    "id": "r7d1eJnEM8lC"
   },
   "source": [
    "## Fichiers SVM"
   ]
  },
  {
   "cell_type": "code",
   "execution_count": null,
   "id": "7JtZMTmH0wuR",
   "metadata": {
    "id": "7JtZMTmH0wuR"
   },
   "outputs": [],
   "source": [
    "def write_svm(encoded_set, orig_set, text_file):\n",
    "  f = open(text_file,'w')\n",
    "  for idx, line in enumerate(encoded_set):\n",
    "    l = str(orig_set[\"classe\"][idx]) + \" \"\n",
    "    for i in range(len(line)):\n",
    "      if line[i]!=0:\n",
    "        l += str(i)+\":\"+str(line[i])+\" \"\n",
    "    l += '\\n'\n",
    "    f.write(l)\n",
    "  return idx"
   ]
  },
  {
   "cell_type": "code",
   "execution_count": null,
   "id": "Z6JwP-p80nFb",
   "metadata": {
    "colab": {
     "base_uri": "https://localhost:8080/"
    },
    "id": "Z6JwP-p80nFb",
    "outputId": "842f0677-07ff-42d4-a8b1-b97341e808ac"
   },
   "outputs": [],
   "source": [
    "write_svm(encoded_train, train_df, \"data_deft2017/\"+\"train_svm.txt\")"
   ]
  },
  {
   "cell_type": "code",
   "execution_count": null,
   "id": "1jgeGc5KKjDz",
   "metadata": {
    "colab": {
     "base_uri": "https://localhost:8080/"
    },
    "id": "1jgeGc5KKjDz",
    "outputId": "d7b416e1-45ae-4211-9b6c-84892570dbfd"
   },
   "outputs": [],
   "source": [
    "write_svm(encoded_test, test_df, \"data_deft2017/\"+\"test_svm.txt\")"
   ]
  },
  {
   "cell_type": "markdown",
   "id": "SD3Hm-WbNGXO",
   "metadata": {
    "id": "SD3Hm-WbNGXO"
   },
   "source": [
    "## Modèle SVM de LibLinear"
   ]
  },
  {
   "cell_type": "code",
   "execution_count": null,
   "id": "RzhzXovIP8vx",
   "metadata": {
    "colab": {
     "base_uri": "https://localhost:8080/"
    },
    "id": "RzhzXovIP8vx",
    "outputId": "74b10c3b-127c-4908-d046-e908b334eb06"
   },
   "outputs": [],
   "source": [
    "!pip install -U liblinear-official"
   ]
  },
  {
   "cell_type": "code",
   "execution_count": null,
   "id": "pG_utXxrfk0y",
   "metadata": {
    "id": "pG_utXxrfk0y"
   },
   "outputs": [],
   "source": [
    "from liblinear.liblinearutil import *"
   ]
  },
  {
   "cell_type": "code",
   "execution_count": null,
   "id": "7NIuL0u06foX",
   "metadata": {
    "id": "7NIuL0u06foX"
   },
   "outputs": [],
   "source": [
    "import numpy as np\n",
    "import scipy"
   ]
  },
  {
   "cell_type": "code",
   "execution_count": null,
   "id": "B4Z_kiaP6XTI",
   "metadata": {
    "colab": {
     "base_uri": "https://localhost:8080/"
    },
    "id": "B4Z_kiaP6XTI",
    "outputId": "5c8bbbc7-fdcc-4822-e166-79742598d4e8"
   },
   "outputs": [],
   "source": [
    "y_train, x_train = svm_read_problem(\"data_deft2017/\"+\"train_svm.txt\")\n",
    "prob = problem(y_train, x_train)\n",
    "param = parameter('-s 3 -c 1 -q')\n",
    "m = train(y_train, x_train, '-c 2')\n",
    "m = train(prob, '-w1 5 -c 3')\n",
    "m = train(prob, '-s 0 -c 1 -B 1')\n",
    "m = train(prob, param)\n",
    "CV_ACC = train(y_train, x_train, '-v 3')\n",
    "best_C, best_p, best_rate = train(y_train, x_train, '-C -s 0')\n",
    "m = train(y_train, x_train, '-c {0} -s 0'.format(best_C))\n",
    "p_label, p_acc, p_val = predict(y_train, x_train, m)"
   ]
  },
  {
   "cell_type": "code",
   "execution_count": null,
   "id": "P8RdxCHWTW0a",
   "metadata": {
    "colab": {
     "base_uri": "https://localhost:8080/"
    },
    "id": "P8RdxCHWTW0a",
    "outputId": "4cf812c4-314b-493c-d4d4-e1af55bcabed"
   },
   "outputs": [],
   "source": [
    "y_test, x_test = svm_read_problem(\"data_deft2017/\"+\"test_svm.txt\")\n",
    "p_label, p_acc, p_val = predict(y_test, x_test, m)"
   ]
  },
  {
   "cell_type": "markdown",
   "id": "4Dy-SLqLapqq",
   "metadata": {
    "id": "4Dy-SLqLapqq"
   },
   "source": []
  },
  {
   "cell_type": "code",
   "execution_count": null,
   "id": "275-STv9JhNE",
   "metadata": {
    "id": "275-STv9JhNE"
   },
   "outputs": [],
   "source": [
    "from sklearn.metrics import multilabel_confusion_matrix, classification_report"
   ]
  },
  {
   "cell_type": "code",
   "execution_count": null,
   "id": "-7GF1mUjG5A4",
   "metadata": {
    "colab": {
     "base_uri": "https://localhost:8080/"
    },
    "id": "-7GF1mUjG5A4",
    "outputId": "89f0d257-baea-4320-8040-5cf7322cdb5c"
   },
   "outputs": [],
   "source": [
    "len(p_label)\n",
    "multilabel_confusion_matrix(test_df[\"classe\"], p_label,labels=[-1, 0, 1, 2])"
   ]
  },
  {
   "cell_type": "code",
   "execution_count": null,
   "id": "8xxbhgMXI2Zi",
   "metadata": {
    "colab": {
     "base_uri": "https://localhost:8080/"
    },
    "id": "8xxbhgMXI2Zi",
    "outputId": "d02b4e79-608c-4068-a3a8-b0d85c96869a"
   },
   "outputs": [],
   "source": [
    "print(classification_report(test_df[\"classe\"], p_label))"
   ]
  },
  {
   "cell_type": "code",
   "execution_count": null,
   "id": "35b570b2",
   "metadata": {},
   "outputs": [],
   "source": [
    "ACC, MSE, SCC = evaluations(y_test, p_label)"
   ]
  },
  {
   "cell_type": "code",
   "execution_count": null,
   "id": "-eHvwKWXa1xb",
   "metadata": {
    "colab": {
     "base_uri": "https://localhost:8080/"
    },
    "id": "-eHvwKWXa1xb",
    "outputId": "f71543ee-5b37-4030-a64f-8634b6575167"
   },
   "outputs": [],
   "source": [
    "print(\"ACC\", ACC,\"| MSE\", MSE,\"| SCC\", SCC)"
   ]
  },
  {
   "cell_type": "markdown",
   "id": "fyN2l281NM8s",
   "metadata": {
    "id": "fyN2l281NM8s"
   },
   "source": [
    "## Réseau de neurones\n"
   ]
  },
  {
   "cell_type": "code",
   "execution_count": null,
   "id": "gwZ2fqErB5dF",
   "metadata": {
    "id": "gwZ2fqErB5dF"
   },
   "outputs": [],
   "source": [
    "from keras.models import Sequential\n",
    "from keras.preprocessing.text import Tokenizer\n",
    "from keras.layers import Dense, Embedding, LSTM, SpatialDropout1D\n",
    "from sklearn.model_selection import train_test_split\n",
    "import tensorflow as tf"
   ]
  },
  {
   "cell_type": "code",
   "execution_count": null,
   "id": "aaIJCN5BtgLI",
   "metadata": {
    "id": "aaIJCN5BtgLI"
   },
   "outputs": [],
   "source": [
    "train_df[\"texte\"] = encoded_train\n",
    "test_df[\"texte\"] = encoded_test"
   ]
  },
  {
   "cell_type": "code",
   "execution_count": null,
   "id": "NtUclHtoJWwC",
   "metadata": {
    "id": "NtUclHtoJWwC"
   },
   "outputs": [],
   "source": [
    "X_train = pd.DataFrame(encoded_train)\n",
    "X_test = pd.DataFrame(encoded_test)"
   ]
  },
  {
   "cell_type": "code",
   "execution_count": null,
   "id": "BYp0wFnjCpa3",
   "metadata": {
    "id": "BYp0wFnjCpa3"
   },
   "outputs": [],
   "source": [
    "y_train = train_df[\"classe\"]\n",
    "y_test = test_df[\"classe\"]"
   ]
  },
  {
   "cell_type": "code",
   "execution_count": null,
   "id": "77pep1iHGBjO",
   "metadata": {
    "colab": {
     "base_uri": "https://localhost:8080/",
     "height": 424
    },
    "id": "77pep1iHGBjO",
    "outputId": "e57c8c79-2fba-4fa9-e749-9e31dc860e9c",
    "scrolled": true
   },
   "outputs": [],
   "source": [
    "X_train.shape"
   ]
  },
  {
   "cell_type": "code",
   "execution_count": null,
   "id": "61a3496a",
   "metadata": {},
   "outputs": [],
   "source": [
    "y_train += 1"
   ]
  },
  {
   "cell_type": "code",
   "execution_count": null,
   "id": "dbe29bec",
   "metadata": {},
   "outputs": [],
   "source": [
    "y_train"
   ]
  },
  {
   "cell_type": "code",
   "execution_count": null,
   "id": "84c6fdc2",
   "metadata": {},
   "outputs": [],
   "source": [
    "from sklearn.preprocessing import OneHotEncoder"
   ]
  },
  {
   "cell_type": "code",
   "execution_count": null,
   "id": "71f96944",
   "metadata": {},
   "outputs": [],
   "source": [
    "one_hot_enc = OneHotEncoder()\n",
    "y_train_ohe = one_hot_enc.fit_transform(train_df['classe'].to_numpy().reshape(-1,1)).toarray()"
   ]
  },
  {
   "cell_type": "code",
   "execution_count": null,
   "id": "36VrdtPbKfG8",
   "metadata": {
    "colab": {
     "base_uri": "https://localhost:8080/",
     "height": 237
    },
    "id": "36VrdtPbKfG8",
    "outputId": "ef7877f0-608c-4e00-ffaa-e28e55dfd088"
   },
   "outputs": [],
   "source": [
    "#Model Building\n",
    "model = Sequential()\n",
    "model.add(Embedding(X_train.shape[1],120, input_length = X_train.shape[1]))\n",
    "model.add(SpatialDropout1D(0.4))\n",
    "model.add(LSTM(X_train.shape[1],dropout=0.2, recurrent_dropout=0.2))\n",
    "model.add(Dense(352, activation='LeakyReLU'))\n",
    "model.add(Dense(4, activation='softmax')) \n",
    "model.compile(loss = 'categorical_crossentropy', optimizer='adam', metrics = ['accuracy'])\n",
    "#Model Training\n",
    "model.fit(X_train, y_train_ohe, epochs = 20, batch_size=32, verbose =1)\n",
    "#Model Testing\n",
    "model.evaluate(X_test,y_train_ohe)"
   ]
  },
  {
   "cell_type": "code",
   "execution_count": null,
   "id": "xna1TpyrCvXY",
   "metadata": {
    "id": "xna1TpyrCvXY"
   },
   "outputs": [],
   "source": [
    "multilabel_confusion_matrix(test_df[\"classe\"], p_label,labels=[-1, 0, 1])"
   ]
  },
  {
   "cell_type": "code",
   "execution_count": null,
   "id": "Kh6bLUmUTaSm",
   "metadata": {
    "id": "Kh6bLUmUTaSm"
   },
   "outputs": [],
   "source": [
    "print(classification_report(test_df[\"classe\"], p_label))"
   ]
  }
 ],
 "metadata": {
  "colab": {
   "provenance": []
  },
  "kernelspec": {
   "display_name": "Python 3 (ipykernel)",
   "language": "python",
   "name": "python3"
  },
  "language_info": {
   "codemirror_mode": {
    "name": "ipython",
    "version": 3
   },
   "file_extension": ".py",
   "mimetype": "text/x-python",
   "name": "python",
   "nbconvert_exporter": "python",
   "pygments_lexer": "ipython3",
   "version": "3.10.12"
  }
 },
 "nbformat": 4,
 "nbformat_minor": 5
}
